{
 "cells": [
  
  {
   "cell_type": "code",
   "execution_count": 13,
   "metadata": {
    "collapsed": false
   },
   "outputs": [
    {
     "name": "stdout",
     "output_type": "stream",
     "text": [
      "\n",
      "    buy:0.019 sell: 0.0187 Last: 0.0187 UTC:Tue Dec 26 06:54:31 2017 \n",
      "    \n"
     ]
    }
   ],
   "source": [
    "p = \"\"\"\n",
    "    buy:{0} sell:{1} Last:{2} UTC:{3} \n",
    "    \"\"\".format(ask, bid, last,utime)\n",
    "\n",
    "print(p)"
   ]
  },
  {
   "cell_type": "raw",
   "metadata": {},
   "source": []
  },
  {
   "cell_type": "code",
   "execution_count": 3,
   "metadata": {
    "collapsed": false
   },
   "outputs": [],
   "source": [
    "def writebtcfile(curr1, curr2):\n",
    "    url = \"https://api.btcmarkets.net/market/\"+curr1+\"/\"+curr2+\"/tick\"\n",
    "    \n",
    "    f= open(time.strftime(\"%Y%m%d\")+curr1+curr2+\".txt\",\"w+\")\n",
    "    for i in range(0,10):\n",
    "        time.sleep(1)\n",
    "        req = requests.get(url)\n",
    "\n",
    "        ask = str(req.json()[\"bestAsk\"])\n",
    "        bid = str(req.json()[\"bestBid\"])\n",
    "        last = str(req.json()[\"lastPrice\"])\n",
    "        tstamp = req.json()[\"timestamp\"]\n",
    "        utime = time.asctime(time.gmtime(tstamp))\n",
    "\n",
    "        content = \"\"\"\n",
    "                     buy:{0} sell:{1} Last:{2} UTC:{3}\"\"\".format(ask, bid, last,utime)\n",
    "  \n",
    "        f.write(content)\n",
    "        print(content)\n",
    "\n",
    "    f.close()"
   ]
  },
  {
   "cell_type": "code",
   "execution_count": 23,
   "metadata": {
    "collapsed": true
   },
   "outputs": [],
   "source": [
    "f= open(time.strftime(\"%Y%m%d\")+\"LTC.txt\",\"w+\")\n",
    "f.close()"
   ]
  },
  {
   "cell_type": "code",
   "execution_count": 26,
   "metadata": {
    "collapsed": false
   },
   "outputs": [
    {
     "name": "stdout",
     "output_type": "stream",
     "text": [
      "\n",
      "    buy:377.03 sell:373.03 Last:373.13 UTC:Tue Dec 26 08:13:04 2017 \n",
      "    \n",
      "\n",
      "    buy:377.03 sell:373.03 Last:373.13 UTC:Tue Dec 26 08:13:04 2017 \n",
      "    \n",
      "\n",
      "    buy:377.03 sell:373.03 Last:373.13 UTC:Tue Dec 26 08:13:04 2017 \n",
      "    \n",
      "\n",
      "    buy:377.03 sell:373.03 Last:373.13 UTC:Tue Dec 26 08:13:04 2017 \n",
      "    \n",
      "\n",
      "    buy:377.03 sell:373.03 Last:373.13 UTC:Tue Dec 26 08:13:04 2017 \n",
      "    \n",
      "\n",
      "    buy:377.03 sell:373.03 Last:373.13 UTC:Tue Dec 26 08:13:04 2017 \n",
      "    \n",
      "\n",
      "    buy:377.03 sell:373.03 Last:373.13 UTC:Tue Dec 26 08:13:04 2017 \n",
      "    \n",
      "\n",
      "    buy:377.03 sell:373.03 Last:373.13 UTC:Tue Dec 26 08:13:04 2017 \n",
      "    \n",
      "\n",
      "    buy:377.03 sell:373.03 Last:373.13 UTC:Tue Dec 26 08:13:04 2017 \n",
      "    \n",
      "\n",
      "    buy:377.03 sell:373.03 Last:373.13 UTC:Tue Dec 26 08:13:04 2017 \n",
      "    \n"
     ]
    }
   ],
   "source": [
    "f= open(time.strftime(\"%Y%m%d\")+\"LTC.txt\",\"w+\")\n",
    "for i in range(0,10):\n",
    "        time.sleep(1)\n",
    "        req = requests.get(url)\n",
    "\n",
    "        ask = str(req.json()[\"bestAsk\"])\n",
    "        bid = str(req.json()[\"bestBid\"])\n",
    "        last = str(req.json()[\"lastPrice\"])\n",
    "        tstamp = req.json()[\"timestamp\"]\n",
    "        utime = time.asctime(time.gmtime(tstamp))\n",
    "\n",
    "        content = \"\"\"buy:{0} sell:{1} Last:{2} UTC:{3}\"\"\".format(ask, bid, last,utime)\n",
    "\n",
    "        f.write(p)\n",
    "        print(p)\n",
    "writebtcfile\n",
    "f.close()"
   ]
  },
  {
   "cell_type": "code",
   "execution_count": 35,
   "metadata": {
    "collapsed": false
   },
   "outputs": [
    {
     "name": "stdout",
     "output_type": "stream",
     "text": [
      "\n",
      "                     buy:1012.08 sell:1004.93 Last:1013.0 UTC:Tue Dec 26 09:26:17 2017\n",
      "\n",
      "                     buy:1012.08 sell:1004.93 Last:1013.0 UTC:Tue Dec 26 09:26:17 2017\n",
      "\n",
      "                     buy:1012.08 sell:1004.93 Last:1013.0 UTC:Tue Dec 26 09:26:17 2017\n",
      "\n",
      "                     buy:1012.08 sell:1004.9 Last:1013.0 UTC:Tue Dec 26 09:27:00 2017\n",
      "\n",
      "                     buy:1012.08 sell:1004.9 Last:1013.0 UTC:Tue Dec 26 09:27:00 2017\n",
      "\n",
      "                     buy:1012.08 sell:1004.9 Last:1013.0 UTC:Tue Dec 26 09:27:00 2017\n",
      "\n",
      "                     buy:1012.08 sell:1004.93 Last:1013.0 UTC:Tue Dec 26 09:27:03 2017\n",
      "\n",
      "                     buy:1012.08 sell:1004.93 Last:1013.0 UTC:Tue Dec 26 09:27:03 2017\n",
      "\n",
      "                     buy:1012.08 sell:1004.93 Last:1013.0 UTC:Tue Dec 26 09:27:03 2017\n",
      "\n",
      "                     buy:1012.08 sell:1004.93 Last:1013.0 UTC:Tue Dec 26 09:27:03 2017\n"
     ]
    }
   ],
   "source": [
    "writebtcfile('ETH','AUD')"
   ]
  },
  {
   "cell_type": "code",
   "execution_count": 20,
   "metadata": {
    "collapsed": false
   },
   "outputs": [],
   "source": [
    "from threading import Thread\n",
    "import requests\n",
    "import time\n",
    "\n",
    "def writebtcfile(curr1, curr2):\n",
    "    url = \"https://api.btcmarkets.net/market/\"+curr1+\"/\"+curr2+\"/tick\"\n",
    "    \n",
    "    f= open(time.strftime(\"%Y%m%d\")+curr1+curr2+\".txt\",\"w+\")\n",
    "    for i in range(0,86400):\n",
    "        time.sleep(1)\n",
    "        req = requests.get(url)\n",
    "\n",
    "        ask = str(req.json()[\"bestAsk\"])\n",
    "        bid = str(req.json()[\"bestBid\"])\n",
    "        last = str(req.json()[\"lastPrice\"])\n",
    "        tstamp = req.json()[\"timestamp\"]\n",
    "        utime = time.asctime(time.gmtime(tstamp))\n",
    "\n",
    "        content = \"\"\"\n",
    "                     buy:{0} sell:{1} Last:{2} UTC:{3}\"\"\".format(ask, bid, last,utime)\n",
    "  \n",
    "        f.write(content)\n",
    "        #print(content)\n",
    "\n",
    "    f.close()\n",
    "\n",
    "# Create threads as follows\n",
    "try:\n",
    "    thread1 = Thread(target = writebtcfile, args = ('ETH','AUD'))\n",
    "    thread2 = Thread(target = writebtcfile, args = ('XRP','AUD'))\n",
    "    thread3 = Thread(target = writebtcfile, args = ('BTC','AUD'))\n",
    "    thread4 = Thread(target = writebtcfile, args = ('LTC','AUD'))\n",
    "    thread5 = Thread(target = writebtcfile, args = ('ETC','AUD'))\n",
    "    thread6 = Thread(target = writebtcfile, args = ('BCH','AUD'))\n",
    "    thread1.start()    \n",
    "    thread2.start()\n",
    "    thread3.start()\n",
    "    thread4.start()\n",
    "    thread5.start()\n",
    "    thread6.start()\n",
    "except:\n",
    "   print (\"Error: unable to start thread\")"
   ]
  }
 ],
 "metadata": {
  "kernelspec": {
   "display_name": "Python 3",
   "language": "python",
   "name": "python3"
  },
  "language_info": {
   "codemirror_mode": {
    "name": "ipython",
    "version": 3
   },
   "file_extension": ".py",
   "mimetype": "text/x-python",
   "name": "python",
   "nbconvert_exporter": "python",
   "pygments_lexer": "ipython3",
   "version": "3.6.0"
  }
 },
 "nbformat": 4,
 "nbformat_minor": 2
}
